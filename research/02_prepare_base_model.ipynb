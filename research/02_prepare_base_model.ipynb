{
 "cells": [
  {
   "cell_type": "code",
   "execution_count": 1,
   "metadata": {},
   "outputs": [],
   "source": [
    "import os "
   ]
  },
  {
   "cell_type": "code",
   "execution_count": 3,
   "metadata": {},
   "outputs": [
    {
     "data": {
      "text/plain": [
       "'d:\\\\pycharm\\\\Chicken-disease\\\\Chicken-Disease--Classification--Project\\\\research'"
      ]
     },
     "execution_count": 3,
     "metadata": {},
     "output_type": "execute_result"
    }
   ],
   "source": [
    "%pwd"
   ]
  },
  {
   "cell_type": "code",
   "execution_count": 4,
   "metadata": {},
   "outputs": [],
   "source": [
    "os.chdir(\"../\")"
   ]
  },
  {
   "cell_type": "code",
   "execution_count": 6,
   "metadata": {},
   "outputs": [
    {
     "data": {
      "text/plain": [
       "'d:\\\\pycharm\\\\Chicken-disease\\\\Chicken-Disease--Classification--Project'"
      ]
     },
     "execution_count": 6,
     "metadata": {},
     "output_type": "execute_result"
    }
   ],
   "source": [
    "%pwd"
   ]
  },
  {
   "cell_type": "code",
   "execution_count": 7,
   "metadata": {},
   "outputs": [],
   "source": [
    "from dataclasses import dataclass\n",
    "from pathlib import Path\n",
    "\n",
    "@dataclass(frozen=True)\n",
    "class PrepareBaseModelConfig:\n",
    "    root_dir:Path\n",
    "    base_model_path: Path\n",
    "    updated_base_model_path:Path\n",
    "    params_image_size: list\n",
    "    params_learning_rate:float\n",
    "    params_include_top:bool\n",
    "    params_weights: str\n",
    "    params_classes: int \n",
    "    "
   ]
  },
  {
   "cell_type": "code",
   "execution_count": 8,
   "metadata": {},
   "outputs": [],
   "source": [
    "from cnnClassifier.constants import *\n",
    "from cnnClassifier.utils.common import read_yaml,create_directories"
   ]
  },
  {
   "cell_type": "code",
   "execution_count": null,
   "metadata": {},
   "outputs": [],
   "source": [
    "class ConfigurationManaager:\n",
    "    def __init__(\n",
    "            self,\n",
    "            config_filepath =CONFIG_FILE_PATH,\n",
    "            params_filepath =PARAMS_FILE_PATH):\n",
    "            self.config =read_yaml(config_filepath)\n",
    "            self.params =read_yaml(params_filepath)\n",
    "            create_directories([self.config.artifacts_root])\n",
    "    def get_prepare_base_model_config(self) -> PrepareBaseModelConfig:\n",
    "          config =self.config.prepare_base_model\n",
    "          create_directories([config.root_dir])\n",
    "          prepare_base_model_config =PrepareBaseModelConfig(\n",
    "                root_dir=Path(config.root_dir),\n",
    "                base_model_path=Path(config.root_dir),\n",
    "                updated_base_model_path =Path(config.base_model_path),\n",
    "                params_image_size=self.params.IMAGE_SIZE,\n",
    "                params_learning_rate =self.params.LEARNING_RATE,\n",
    "                params_include_top=self.params.INCLUDE_TOP,\n",
    "                params_weight=self.params.WEIGHTS,\n",
    "                params_classes=self.params.CLASSES\n",
    "\n",
    "\n",
    "\n",
    "          )\n",
    "\n",
    "          return prepare_base_model_config\n",
    "    "
   ]
  }
 ],
 "metadata": {
  "kernelspec": {
   "display_name": "base",
   "language": "python",
   "name": "python3"
  },
  "language_info": {
   "codemirror_mode": {
    "name": "ipython",
    "version": 3
   },
   "file_extension": ".py",
   "mimetype": "text/x-python",
   "name": "python",
   "nbconvert_exporter": "python",
   "pygments_lexer": "ipython3",
   "version": "3.9.13"
  }
 },
 "nbformat": 4,
 "nbformat_minor": 2
}
